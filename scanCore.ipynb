{
 "cells": [
  {
   "cell_type": "code",
   "execution_count": null,
   "metadata": {},
   "outputs": [],
   "source": [
    "# setup vars/funcs for scanCore\n",
    "\n",
    "def dprint(text, end=\"\\r\"):\n",
    "    if DEBUG:\n",
    "        print(text, end=end)\n",
    "\n",
    "DEBUG = True"
   ]
  },
  {
   "cell_type": "code",
   "execution_count": null,
   "metadata": {},
   "outputs": [],
   "source": [
    "#   creates ip ranges\n",
    "\n",
    "import random\n",
    "\n",
    "# create a list of ipv4 ranges\n",
    "ip_lists = []\n",
    "for i in range(255):\n",
    "    for j in range(255):\n",
    "        ip_lists.append(f\"{i}.{j}.0.0/16\")\n",
    "random.shuffle(ip_lists)\n",
    "\n",
    "ip_lists = [\"172.64.0.0/16\",\"172.65.0.0/16\",\"172.66.0.0/16\"] # remove for final vers"
   ]
  },
  {
   "cell_type": "code",
   "execution_count": null,
   "metadata": {},
   "outputs": [],
   "source": [
    "#     checks if the ip is runnging a server\n",
    "\n",
    "import json\n",
    "import os\n",
    "import time\n",
    "\n",
    "upHosts = []\n",
    "results = []\n",
    "start = time.time()\n",
    "prev = 0\n",
    "\n",
    "for ip_list in ip_lists:\n",
    "    print(f\"scanning {ip_list} | List #{ip_lists.index(ip_list)+1}/{len(ip_lists)} | average time/list {(((time.time()-start)/(ip_lists.index(ip_list)+1)*2),2)} {' '*10}\",end=\"\\r\")\n",
    "    try:\n",
    "        import masscan\n",
    "        import json\n",
    "\n",
    "        scanner = masscan.PortScanner()\n",
    "        scanner.scan(ip_list, ports='25565', arguments='--max-rate 1000')\n",
    "        res = json.loads(scanner.scan_result)\n",
    "        results.append(list(res[\"scan\"].keys()))\n",
    "    except Exception as e:\n",
    "        print(e)\n",
    "\n",
    "    dprint(f\"found {len(results[ip_lists.index(ip_list)])} hosts | List #{ip_lists.index(ip_list)+1}/{len(ip_lists)} | total hosts: {prev+len(results[ip_lists.index(ip_list)])} | average time/list {round(((time.time()-start)/(ip_lists.index(ip_list)+1)),2)} {' '*10}\",end=\"\\r\")\n",
    "    prev = len(results[ip_lists.index(ip_list)])\n",
    "prev = 0\n",
    "for result in results:\n",
    "    prev += len(result)\n",
    "\n",
    "print(f\"found {prev} hosts | average time/list {round(((time.time()-start)/(len(ip_lists))),2)} {' '*10}\")"
   ]
  },
  {
   "cell_type": "code",
   "execution_count": 19,
   "metadata": {},
   "outputs": [
    {
     "name": "stdout",
     "output_type": "stream",
     "text": [
      "Starting threads\n",
      "172.65.119.167 (BetterMinecraft[FABRIC]1.19): has 0 players and replied in 1.06 ms\n",
      "172.65.130.212 (AMinecraftServer): has 0 players and replied in 0.84 ms\n",
      "172.65.136.250 (SynapseV3SMP): has 0 players and replied in 0.2 ms\n",
      "172.65.6.243 (PixelBUDSMP): has 0 players and replied in 0.72 ms\n",
      "172.65.103.82 (Idon'tstartshit,butIcantellyouhowitendsDon'tgetsad,getevenSoontheweekendsIdon'tdressforfriendsLately,I'vebeendressin'forrevenge): has 0 players and replied in 1.16 ms\n",
      "172.65.247.199 (Invalidhostname.Pleaserefertoourdocumentationatdocs.tcpshield.com): has 0 players and replied in 0.5 ms\n",
      "172.65.96.159 (twitch.tv/t0nysama): has 0 players and replied in 0.44 ms\n",
      "172.65.119.103 (MassiveCraft-TheFactionsRPG): has 15 players and replied in 0.46 ms\n",
      "172.65.96.189 (Welcometonorwick!): has 0 players and replied in 0.66 ms\n",
      "172.65.29.215 (ServidorSMPdoArnaud\n",
      "Whitelist?ArnaudLanna#0001noDiscord): has 0 players and replied in 0.36 ms\n",
      "172.65.223.142 (OvercastCommunity\n",
      "»WrathTorRAGE«): has 23 players and replied in 0.93 ms\n",
      "172.65.110.180 (SpongeCommunityServer): has 0 players and replied in 0.81 ms\n",
      "172.65.122.155 (MinecraftSMPProject): has 0 players and replied in 1.66 ms\n",
      "172.65.104.202 (AMinecraftServer): has 0 players and replied in 1.03 ms\n",
      "172.65.111.37 (): has 0 players and replied in 1.49 ms\n",
      "172.65.131.247 (Ohyeah.Getexcited!): has 0 players and replied in 2.7 ms\n",
      "172.65.183.153 (PotentialTech:⚠Thesessionhasnotstartedyet⚠): has 0 players and replied in 1.07 ms\n",
      "172.65.108.215 (---+---Nick'sSkyopolis5Server---+---): has 0 players and replied in 0.9 ms\n",
      "172.65.120.255 (Cute.FanServer): has 0 players and replied in 0.83 ms\n",
      "172.65.102.162 (pandoria.net-ServerNetzwerk[1.18.2],.=UnserServergehtindieBeta!.,.): has 1 players and replied in 1.21 ms\n"
     ]
    }
   ],
   "source": [
    "#     checks if the ip is runnging a minecraft server\n",
    "\n",
    "import time\n",
    "\n",
    "start_time = time.time()\n",
    "res = []\n",
    "lst = []\n",
    "for result in results:\n",
    "    for host in result:\n",
    "        lst.append(host)\n",
    "\n",
    "def check(host):\n",
    "    try:\n",
    "        import mcstatus\n",
    "        print(\"\\r\",end=\"\")\n",
    "        server = mcstatus.JavaServer.lookup(host)\n",
    "        status = server.status()\n",
    "        description = status.description\n",
    "        #remove color codes and whitespace\n",
    "        description = description.replace(\"§0\",\"\").replace(\"§1\",\"\").replace(\"§2\",\"\").replace(\"§3\",\"\").replace(\"§4\",\"\").replace(\"§5\",\"\").replace(\"§6\",\"\").replace(\"§7\",\"\").replace(\"§8\",\"\").replace(\"§9\",\"\").replace(\"§a\",\"\").replace(\"§b\",\"\").replace(\"§c\",\"\").replace(\"§d\",\"\").replace(\"§e\",\"\").replace(\"§f\",\"\").replace(\"§k\",\"\").replace(\"§l\",\"\").replace(\"§m\",\"\").replace(\"§n\",\"\").replace(\"§o\",\"\").replace(\"§r\",\"\").replace(\" \",\"\")\n",
    "        dprint(f\"{host} ({description}): has {status.players.online} players and replied in {round(status.latency,2)} ms\\n\")\n",
    "\n",
    "        res.append(host)\n",
    "    except Exception as e:\n",
    "        pass\n",
    "\n",
    "import threading\n",
    "\n",
    "print(\"Starting threads\")\n",
    "threads = []\n",
    "for host in lst:\n",
    "    thread = threading.Thread(target=check, args=(host,))\n",
    "    thread.start()\n",
    "    threads.append(thread)\n",
    "\n",
    "# monitor threads\n",
    "while True:\n",
    "    time.sleep(0.1)\n",
    "    if not any(t.is_alive() for t in threads):\n",
    "        break\n"
   ]
  },
  {
   "cell_type": "code",
   "execution_count": 20,
   "metadata": {},
   "outputs": [
    {
     "name": "stdout",
     "output_type": "stream",
     "text": [
      "found 20 servers in 124.02 seconds\n"
     ]
    }
   ],
   "source": [
    "#   Deal with the data\n",
    "print(f\"found {len(res)} servers in {round(time.time()-start_time,2)} seconds\")"
   ]
  }
 ],
 "metadata": {
  "kernelspec": {
   "display_name": "Python 3.9.2 64-bit",
   "language": "python",
   "name": "python3"
  },
  "language_info": {
   "codemirror_mode": {
    "name": "ipython",
    "version": 3
   },
   "file_extension": ".py",
   "mimetype": "text/x-python",
   "name": "python",
   "nbconvert_exporter": "python",
   "pygments_lexer": "ipython3",
   "version": "3.9.2"
  },
  "orig_nbformat": 4,
  "vscode": {
   "interpreter": {
    "hash": "31f2aee4e71d21fbe5cf8b01ff0e069b9275f58929596ceb00d14d90e3e16cd6"
   }
  }
 },
 "nbformat": 4,
 "nbformat_minor": 2
}
