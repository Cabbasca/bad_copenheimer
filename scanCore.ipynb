{
 "cells": [
  {
   "cell_type": "code",
   "execution_count": null,
   "metadata": {},
   "outputs": [],
   "source": [
    "# setup vars/funcs for scanCore\n",
    "\n",
    "def dprint(text, end=\"\\r\"):\n",
    "    if DEBUG:\n",
    "        print(text, end=end)\n",
    "\n",
    "DEBUG = True"
   ]
  },
  {
   "cell_type": "code",
   "execution_count": null,
   "metadata": {},
   "outputs": [],
   "source": [
    "#   creates ip ranges\n",
    "\n",
    "import random\n",
    "\n",
    "# create a list of ipv4 ranges\n",
    "ip_lists = []\n",
    "for i in range(255):\n",
    "    for j in range(255):\n",
    "        ip_lists.append(f\"{i}.{j}.0.0/16\")\n",
    "random.shuffle(ip_lists)\n",
    "\n",
    "ip_lists = [\"172.64.0.0/16\",\"172.65.0.0/16\",\"172.66.0.0/16\"] # remove for final vers"
   ]
  },
  {
   "cell_type": "code",
   "execution_count": null,
   "metadata": {},
   "outputs": [],
   "source": [
    "#     checks if the ip is runnging a server\n",
    "\n",
    "import json\n",
    "import os\n",
    "import time\n",
    "\n",
    "upHosts = []\n",
    "results = []\n",
    "start = time.time()\n",
    "prev = 0\n",
    "\n",
    "for ip_list in ip_lists:\n",
    "    print(f\"scanning {ip_list} | List #{ip_lists.index(ip_list)+1}/{len(ip_lists)} | average time/list {(((time.time()-start)/(ip_lists.index(ip_list)+1)*2),2)} {' '*10}\",end=\"\\r\")\n",
    "    try:\n",
    "        import masscan\n",
    "        import json\n",
    "\n",
    "        scanner = masscan.PortScanner()\n",
    "        scanner.scan(ip_list, ports='25565', arguments='--max-rate 1000')\n",
    "        res = json.loads(scanner.scan_result)\n",
    "        results.append(list(res[\"scan\"].keys()))\n",
    "    except Exception as e:\n",
    "        print(e)\n",
    "\n",
    "    dprint(f\"found {len(results[ip_lists.index(ip_list)])} hosts | List #{ip_lists.index(ip_list)+1}/{len(ip_lists)} | total hosts: {prev+len(results[ip_lists.index(ip_list)])} | average time/list {round(((time.time()-start)/(ip_lists.index(ip_list)+1)),2)} {' '*10}\",end=\"\\r\")\n",
    "    prev = len(results[ip_lists.index(ip_list)])\n",
    "prev = 0\n",
    "for result in results:\n",
    "    prev += len(result)\n",
    "\n",
    "print(f\"found {prev} hosts | average time/list {round(((time.time()-start)/(len(ip_lists))),2)} {' '*10}\")"
   ]
  },
  {
   "cell_type": "code",
   "execution_count": 15,
   "metadata": {},
   "outputs": [
    {
     "name": "stdout",
     "output_type": "stream",
     "text": [
      "Starting threads\n",
      "172.65.119.167 (BetterMinecraft[FABRIC]1.19): has 0 players and replied in 1.9242017360002137 ms\n",
      "172.65.130.212 (AMinecraftServer): has 0 players and replied in 1.3646583160002592 ms\n",
      "172.65.136.250 (SynapseV3SMP): has 0 players and replied in 0.19300688100020125 ms\n",
      "172.65.6.243 (PixelBUDSMP): has 0 players and replied in 0.9889452939996772 ms\n",
      "172.65.103.82 (Idon'tstartshit,butIcantellyouhowitendsDon'tgetsad,getevenSoontheweekendsIdon'tdressforfriendsLately,I'vebeendressin'forrevenge): has 0 players and replied in 1.5540183289999732 ms\n",
      "172.65.247.199 (Invalidhostname.Pleaserefertoourdocumentationatdocs.tcpshield.com): has 0 players and replied in 0.7225640990000102 ms\n",
      "172.65.96.159 (twitch.tv/t0nysama): has 0 players and replied in 0.5159285680001631 ms\n",
      "172.65.119.103 (MassiveCraft-TheFactionsRPG): has 16 players and replied in 0.5807589619998907 ms\n",
      "172.65.96.189 (Welcometonorwick!): has 0 players and replied in 0.33277619099999356 ms\n",
      "172.65.29.215 (ServidorSMPdoArnaud\n",
      "Whitelist?ArnaudLanna#0001noDiscord): has 0 players and replied in 0.32788508300018293 ms\n",
      "172.65.223.142 (OvercastCommunity\n",
      "»WrathTorRAGE«): has 25 players and replied in 1.2975782489997982 ms\n",
      "172.65.110.180 (SpongeCommunityServer): has 0 players and replied in 0.3647490309999739 ms\n",
      "172.65.122.155 (MinecraftSMPProject): has 0 players and replied in 1.1299565330000405 ms\n",
      "172.65.104.202 (AMinecraftServer): has 0 players and replied in 0.9209852020003382 ms\n",
      "172.65.239.18 (LuckyNetwork[1.8-1.18.1]\n",
      "): has 212 players and replied in 1.3374027180002486 ms\n",
      "172.65.111.37 (): has 0 players and replied in 0.958639587000107 ms\n",
      "172.65.131.247 (Ohyeah.Getexcited!): has 0 players and replied in 1.0126081479997993 ms\n",
      "172.65.183.153 (PotentialTech:⚠Thesessionhasnotstartedyet⚠): has 0 players and replied in 0.4077521760000309 ms\n"
     ]
    },
    {
     "ename": "KeyboardInterrupt",
     "evalue": "",
     "output_type": "error",
     "traceback": [
      "\u001b[0;31m---------------------------------------------------------------------------\u001b[0m",
      "\u001b[0;31mKeyboardInterrupt\u001b[0m                         Traceback (most recent call last)",
      "Cell \u001b[0;32mIn [15], line 33\u001b[0m\n\u001b[1;32m     31\u001b[0m \u001b[39mfor\u001b[39;00m host \u001b[39min\u001b[39;00m lst:\n\u001b[1;32m     32\u001b[0m     thread \u001b[39m=\u001b[39m threading\u001b[39m.\u001b[39mThread(target\u001b[39m=\u001b[39mcheck, args\u001b[39m=\u001b[39m(host,))\n\u001b[0;32m---> 33\u001b[0m     thread\u001b[39m.\u001b[39;49mstart()\n\u001b[1;32m     34\u001b[0m     threads\u001b[39m.\u001b[39mappend(thread)\n\u001b[1;32m     36\u001b[0m \u001b[39m# monitor threads\u001b[39;00m\n",
      "File \u001b[0;32m/usr/lib/python3.9/threading.py:879\u001b[0m, in \u001b[0;36mThread.start\u001b[0;34m(self)\u001b[0m\n\u001b[1;32m    877\u001b[0m         \u001b[39mdel\u001b[39;00m _limbo[\u001b[39mself\u001b[39m]\n\u001b[1;32m    878\u001b[0m     \u001b[39mraise\u001b[39;00m\n\u001b[0;32m--> 879\u001b[0m \u001b[39mself\u001b[39;49m\u001b[39m.\u001b[39;49m_started\u001b[39m.\u001b[39;49mwait()\n",
      "File \u001b[0;32m/usr/lib/python3.9/threading.py:574\u001b[0m, in \u001b[0;36mEvent.wait\u001b[0;34m(self, timeout)\u001b[0m\n\u001b[1;32m    572\u001b[0m signaled \u001b[39m=\u001b[39m \u001b[39mself\u001b[39m\u001b[39m.\u001b[39m_flag\n\u001b[1;32m    573\u001b[0m \u001b[39mif\u001b[39;00m \u001b[39mnot\u001b[39;00m signaled:\n\u001b[0;32m--> 574\u001b[0m     signaled \u001b[39m=\u001b[39m \u001b[39mself\u001b[39;49m\u001b[39m.\u001b[39;49m_cond\u001b[39m.\u001b[39;49mwait(timeout)\n\u001b[1;32m    575\u001b[0m \u001b[39mreturn\u001b[39;00m signaled\n",
      "File \u001b[0;32m/usr/lib/python3.9/threading.py:312\u001b[0m, in \u001b[0;36mCondition.wait\u001b[0;34m(self, timeout)\u001b[0m\n\u001b[1;32m    310\u001b[0m \u001b[39mtry\u001b[39;00m:    \u001b[39m# restore state no matter what (e.g., KeyboardInterrupt)\u001b[39;00m\n\u001b[1;32m    311\u001b[0m     \u001b[39mif\u001b[39;00m timeout \u001b[39mis\u001b[39;00m \u001b[39mNone\u001b[39;00m:\n\u001b[0;32m--> 312\u001b[0m         waiter\u001b[39m.\u001b[39;49macquire()\n\u001b[1;32m    313\u001b[0m         gotit \u001b[39m=\u001b[39m \u001b[39mTrue\u001b[39;00m\n\u001b[1;32m    314\u001b[0m     \u001b[39melse\u001b[39;00m:\n",
      "\u001b[0;31mKeyboardInterrupt\u001b[0m: "
     ]
    }
   ],
   "source": [
    "#     checks if the ip is runnging a minecraft server\n",
    "\n",
    "import time\n",
    "\n",
    "start_time = time.time()\n",
    "res = []\n",
    "lst = []\n",
    "for result in results:\n",
    "    for host in result:\n",
    "        lst.append(host)\n",
    "\n",
    "def check(host):\n",
    "    try:\n",
    "        import mcstatus\n",
    "        print(\"\\r\",end=\"\")\n",
    "        server = mcstatus.JavaServer.lookup(host)\n",
    "        status = server.status()\n",
    "        description = status.description\n",
    "        #remove color codes and whitespace\n",
    "        description = description.replace(\"§0\",\"\").replace(\"§1\",\"\").replace(\"§2\",\"\").replace(\"§3\",\"\").replace(\"§4\",\"\").replace(\"§5\",\"\").replace(\"§6\",\"\").replace(\"§7\",\"\").replace(\"§8\",\"\").replace(\"§9\",\"\").replace(\"§a\",\"\").replace(\"§b\",\"\").replace(\"§c\",\"\").replace(\"§d\",\"\").replace(\"§e\",\"\").replace(\"§f\",\"\").replace(\"§k\",\"\").replace(\"§l\",\"\").replace(\"§m\",\"\").replace(\"§n\",\"\").replace(\"§o\",\"\").replace(\"§r\",\"\").replace(\" \",\"-\")\n",
    "        dprint(f\"{host} ({description}): has {status.players.online} players and replied in {round(status.latency,2)} ms\\n\")\n",
    "\n",
    "        res.append(host)\n",
    "    except Exception as e:\n",
    "        pass\n",
    "\n",
    "import threading\n",
    "\n",
    "print(\"Starting threads\")\n",
    "threads = []\n",
    "for host in lst:\n",
    "    thread = threading.Thread(target=check, args=(host,))\n",
    "    thread.start()\n",
    "    threads.append(thread)\n",
    "\n",
    "# monitor threads\n",
    "while True:\n",
    "    time.sleep(0.1)\n",
    "    if not any(t.is_alive() for t in threads):\n",
    "        break\n"
   ]
  },
  {
   "cell_type": "code",
   "execution_count": null,
   "metadata": {},
   "outputs": [],
   "source": [
    "#   Deal with the data\n",
    "\n",
    "for i in res:\n",
    "    import mcstatus\n",
    "\n",
    "    server = mcstatus.JavaServer.lookup(i)\n",
    "    status = server.status()\n",
    "    print(f\"\\r{host}: has {status.players.online} players and replied in {status.latency} ms\")"
   ]
  }
 ],
 "metadata": {
  "kernelspec": {
   "display_name": "Python 3.9.2 64-bit",
   "language": "python",
   "name": "python3"
  },
  "language_info": {
   "codemirror_mode": {
    "name": "ipython",
    "version": 3
   },
   "file_extension": ".py",
   "mimetype": "text/x-python",
   "name": "python",
   "nbconvert_exporter": "python",
   "pygments_lexer": "ipython3",
   "version": "3.9.2"
  },
  "orig_nbformat": 4,
  "vscode": {
   "interpreter": {
    "hash": "31f2aee4e71d21fbe5cf8b01ff0e069b9275f58929596ceb00d14d90e3e16cd6"
   }
  }
 },
 "nbformat": 4,
 "nbformat_minor": 2
}
